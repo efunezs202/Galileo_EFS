{
 "cells": [
  {
   "cell_type": "code",
   "execution_count": 1,
   "id": "83a5d8de-2e37-4db1-b8dd-dbfc6d12fff5",
   "metadata": {},
   "outputs": [],
   "source": [
    "import numpy as np"
   ]
  },
  {
   "cell_type": "code",
   "execution_count": 2,
   "id": "579f2e66-802a-4e43-93e9-b225d825331a",
   "metadata": {},
   "outputs": [
    {
     "name": "stdout",
     "output_type": "stream",
     "text": [
      "Search results for 'cosine'\n",
      "---------------------------\n",
      "numpy.cos\n",
      "    Cosine element-wise.\n",
      "numpy.cosh\n",
      "    Hyperbolic cosine, element-wise.\n",
      "numpy.arccos\n",
      "    Trigonometric inverse cosine, element-wise.\n",
      "numpy.arccosh\n",
      "    Inverse hyperbolic cosine, element-wise.\n",
      "numpy.hamming\n",
      "    Return the Hamming window.\n",
      "numpy.hanning\n",
      "    Return the Hanning window.\n",
      "numpy.ma.cos\n",
      "    Cosine element-wise.\n",
      "numpy.ma.cosh\n",
      "    Hyperbolic cosine, element-wise.\n",
      "numpy.ma.arccos\n",
      "    Trigonometric inverse cosine, element-wise.\n",
      "numpy.ma.arccosh\n",
      "    Inverse hyperbolic cosine, element-wise.\n",
      "numpy.blackman\n",
      "    Return the Blackman window."
     ]
    }
   ],
   "source": [
    "np.lookfor(\"cosine\")"
   ]
  },
  {
   "cell_type": "code",
   "execution_count": 3,
   "id": "abcf447b-87cb-4c40-9ca7-156b06a4df44",
   "metadata": {},
   "outputs": [
    {
     "name": "stdout",
     "output_type": "stream",
     "text": [
      "1\n",
      "(6,)\n",
      "1\n"
     ]
    }
   ],
   "source": [
    "x = np.array([1,2,3,4,5,6])\n",
    "\n",
    "print(x.ndim)\n",
    "print(x.shape)\n",
    "print(len(x.shape)) #forma de obtener el rango del tensor a partir de su dimension"
   ]
  },
  {
   "cell_type": "code",
   "execution_count": 4,
   "id": "41419d19-6105-4837-af14-89e479661dd0",
   "metadata": {},
   "outputs": [
    {
     "name": "stdout",
     "output_type": "stream",
     "text": [
      "2\n",
      "(2, 3)\n",
      "2\n"
     ]
    }
   ],
   "source": [
    "x = np.array([[1,2,3],\n",
    "              [4,5,6]])\n",
    "\n",
    "print(x.ndim)\n",
    "print(x.shape)\n",
    "print(len(x.shape))  #forma de obtener el rango del tensor a partir de su dimension"
   ]
  },
  {
   "cell_type": "code",
   "execution_count": 5,
   "id": "a2b74aa2-0a16-42d7-9528-1d7fb62b77de",
   "metadata": {},
   "outputs": [
    {
     "name": "stdout",
     "output_type": "stream",
     "text": [
      "Filas de x: 2\n",
      "Columnas de x: 3\n"
     ]
    }
   ],
   "source": [
    "forma_x = x.shape\n",
    "\n",
    "print(\"Filas de x:\",forma_x[0])\n",
    "print(\"Columnas de x:\",forma_x[1])"
   ]
  },
  {
   "cell_type": "code",
   "execution_count": 6,
   "id": "76e225b9-4028-456b-92ae-a6adbb53d9b1",
   "metadata": {},
   "outputs": [],
   "source": [
    "x = np.linspace(0,5,50,endpoint=True,retstep=False)"
   ]
  },
  {
   "cell_type": "code",
   "execution_count": 7,
   "id": "42e71118-3c53-4797-bafb-9468e79c941d",
   "metadata": {},
   "outputs": [
    {
     "data": {
      "text/plain": [
       "array([0.        , 0.10204082, 0.20408163, 0.30612245, 0.40816327,\n",
       "       0.51020408, 0.6122449 , 0.71428571, 0.81632653, 0.91836735,\n",
       "       1.02040816, 1.12244898, 1.2244898 , 1.32653061, 1.42857143,\n",
       "       1.53061224, 1.63265306, 1.73469388, 1.83673469, 1.93877551,\n",
       "       2.04081633, 2.14285714, 2.24489796, 2.34693878, 2.44897959,\n",
       "       2.55102041, 2.65306122, 2.75510204, 2.85714286, 2.95918367,\n",
       "       3.06122449, 3.16326531, 3.26530612, 3.36734694, 3.46938776,\n",
       "       3.57142857, 3.67346939, 3.7755102 , 3.87755102, 3.97959184,\n",
       "       4.08163265, 4.18367347, 4.28571429, 4.3877551 , 4.48979592,\n",
       "       4.59183673, 4.69387755, 4.79591837, 4.89795918, 5.        ])"
      ]
     },
     "execution_count": 7,
     "metadata": {},
     "output_type": "execute_result"
    }
   ],
   "source": [
    "x"
   ]
  },
  {
   "cell_type": "code",
   "execution_count": 8,
   "id": "585acb14-1fcd-4bf8-97b6-565b73cbbfe3",
   "metadata": {},
   "outputs": [
    {
     "data": {
      "text/plain": [
       "array([0. , 0.1, 0.2, 0.3, 0.4, 0.5, 0.6, 0.7, 0.8, 0.9, 1. , 1.1, 1.2,\n",
       "       1.3, 1.4, 1.5, 1.6, 1.7, 1.8, 1.9, 2. , 2.1, 2.2, 2.3, 2.4, 2.5,\n",
       "       2.6, 2.7, 2.8, 2.9, 3. , 3.1, 3.2, 3.3, 3.4, 3.5, 3.6, 3.7, 3.8,\n",
       "       3.9, 4. , 4.1, 4.2, 4.3, 4.4, 4.5, 4.6, 4.7, 4.8, 4.9])"
      ]
     },
     "execution_count": 8,
     "metadata": {},
     "output_type": "execute_result"
    }
   ],
   "source": [
    "x = np.linspace(0,5,50,False,retstep=False)\n",
    "\n",
    "x"
   ]
  },
  {
   "cell_type": "code",
   "execution_count": 9,
   "id": "85a70132-9b75-4314-b740-2756a6823727",
   "metadata": {},
   "outputs": [
    {
     "name": "stdout",
     "output_type": "stream",
     "text": [
      "[0.         0.10204082 0.20408163 0.30612245 0.40816327 0.51020408\n",
      " 0.6122449  0.71428571 0.81632653 0.91836735 1.02040816 1.12244898\n",
      " 1.2244898  1.32653061 1.42857143 1.53061224 1.63265306 1.73469388\n",
      " 1.83673469 1.93877551 2.04081633 2.14285714 2.24489796 2.34693878\n",
      " 2.44897959 2.55102041 2.65306122 2.75510204 2.85714286 2.95918367\n",
      " 3.06122449 3.16326531 3.26530612 3.36734694 3.46938776 3.57142857\n",
      " 3.67346939 3.7755102  3.87755102 3.97959184 4.08163265 4.18367347\n",
      " 4.28571429 4.3877551  4.48979592 4.59183673 4.69387755 4.79591837\n",
      " 4.89795918 5.        ] 0.10204081632653061\n",
      "(50,)\n",
      "1\n"
     ]
    }
   ],
   "source": [
    "xc,dx = np.linspace(0,5,50,endpoint=True,retstep=True)\n",
    "\n",
    "print(xc,dx)\n",
    "print(xc.shape)\n",
    "print(xc.ndim)"
   ]
  },
  {
   "cell_type": "code",
   "execution_count": 10,
   "id": "7af75248-0f76-4f16-a244-ec55bf8342d6",
   "metadata": {},
   "outputs": [
    {
     "data": {
      "text/plain": [
       "array([0.  , 1.25, 2.5 , 3.75, 5.  ])"
      ]
     },
     "execution_count": 10,
     "metadata": {},
     "output_type": "execute_result"
    }
   ],
   "source": [
    "x = np.linspace(0,5,5,True)\n",
    "\n",
    "x"
   ]
  },
  {
   "cell_type": "code",
   "execution_count": 11,
   "id": "df51e9dc-e01d-4aa0-a658-b9f99344a54a",
   "metadata": {},
   "outputs": [
    {
     "data": {
      "image/png": "[encoded data removed]",
      "text/plain": [
       "<Figure size 432x288 with 1 Axes>"
      ]
     },
     "metadata": {
      "needs_background": "light"
     },
     "output_type": "display_data"
    }
   ],
   "source": [
    "import matplotlib.pyplot as plt\n",
    "\n",
    "x = np.linspace(0,100,100)\n",
    "y = np.square(x)\n",
    "\n",
    "plt.plot(x,y)\n",
    "plt.show()"
   ]
  },
  {
   "cell_type": "code",
   "execution_count": 12,
   "id": "91394801-bed2-40e8-a979-315611f11501",
   "metadata": {},
   "outputs": [
    {
     "data": {
      "text/plain": [
       "(array([1, 2, 3, 4, 5, 6, 7, 8, 9]), array([2., 3., 4., 5., 6., 7., 8., 9.]))"
      ]
     },
     "execution_count": 12,
     "metadata": {},
     "output_type": "execute_result"
    }
   ],
   "source": [
    "yo = np.arange(1,10)\n",
    "yoc = np.arange(2,10,dtype = float)\n",
    "\n",
    "yo,yoc"
   ]
  },
  {
   "cell_type": "code",
   "execution_count": 13,
   "id": "f995763d-55d1-410c-bfc6-590b3be76ab1",
   "metadata": {},
   "outputs": [],
   "source": [
    "a = np.zeros"
   ]
  },
  {
   "cell_type": "code",
   "execution_count": 14,
   "id": "c1b7356f-30e2-4059-931d-f6218d44dbef",
   "metadata": {},
   "outputs": [
    {
     "data": {
      "text/plain": [
       "<function numpy.zeros>"
      ]
     },
     "execution_count": 14,
     "metadata": {},
     "output_type": "execute_result"
    }
   ],
   "source": [
    "a"
   ]
  },
  {
   "cell_type": "code",
   "execution_count": 15,
   "id": "0c26756f-799c-4a73-87bc-c827ac0e6a3f",
   "metadata": {},
   "outputs": [],
   "source": [
    "a = np.zeros(5)"
   ]
  },
  {
   "cell_type": "code",
   "execution_count": 16,
   "id": "4525370e-ed6a-402a-a051-314d5a9772d9",
   "metadata": {},
   "outputs": [
    {
     "data": {
      "text/plain": [
       "array([0., 0., 0., 0., 0.])"
      ]
     },
     "execution_count": 16,
     "metadata": {},
     "output_type": "execute_result"
    }
   ],
   "source": [
    "a"
   ]
  },
  {
   "cell_type": "code",
   "execution_count": 17,
   "id": "4d6983e6-5d36-4e54-9014-ae0ae20e9208",
   "metadata": {},
   "outputs": [
    {
     "data": {
      "text/plain": [
       "array([ 54.  ,  36.  , 388.8 , 253.44])"
      ]
     },
     "execution_count": 17,
     "metadata": {},
     "output_type": "execute_result"
    }
   ],
   "source": [
    "np.empty(4)"
   ]
  },
  {
   "cell_type": "code",
   "execution_count": 18,
   "id": "a8271c57-170a-41bc-a55f-004773443139",
   "metadata": {},
   "outputs": [
    {
     "data": {
      "text/plain": [
       "array([2., 3., 4.])"
      ]
     },
     "execution_count": 18,
     "metadata": {},
     "output_type": "execute_result"
    }
   ],
   "source": [
    "lista = [2,3,4.0]\n",
    "\n",
    "x = np.array(lista)\n",
    "\n",
    "x "
   ]
  },
  {
   "cell_type": "code",
   "execution_count": 19,
   "id": "199174b1-aeae-4d17-ab1a-3034b9e30a0a",
   "metadata": {},
   "outputs": [
    {
     "data": {
      "image/png": "[encoded data removed]",
      "text/plain": [
       "<Figure size 432x288 with 1 Axes>"
      ]
     },
     "metadata": {
      "needs_background": "light"
     },
     "output_type": "display_data"
    }
   ],
   "source": [
    "import matplotlib.pyplot as plt\n",
    "\n",
    "a = np.array([1,2])\n",
    "\n",
    "plt.arrow(0,0,a[0],a[1],head_width=0.1,head_length=0.1)\n",
    "plt.xlim(-1,1.5)\n",
    "plt.ylim(-2,2.5)\n",
    "plt.show()"
   ]
  },
  {
   "cell_type": "code",
   "execution_count": 20,
   "id": "cac8fce2-6570-4aff-8c25-ba2b9a524d0b",
   "metadata": {},
   "outputs": [
    {
     "name": "stdout",
     "output_type": "stream",
     "text": [
      "[1 2 3 4 5 6 7 8 9]\n"
     ]
    }
   ],
   "source": [
    "vector = np.array([1,2,3,4,5,6,7,8,9])\n",
    "\n",
    "print(vector)"
   ]
  },
  {
   "cell_type": "code",
   "execution_count": 21,
   "id": "beb19c8b-5742-4ffb-beef-aeb8b6323ea4",
   "metadata": {},
   "outputs": [
    {
     "name": "stdout",
     "output_type": "stream",
     "text": [
      "[1 2 3 4 5 6 7 8 9]\n"
     ]
    }
   ],
   "source": [
    "nuevo_vector = vector.copy()\n",
    "\n",
    "print(nuevo_vector)"
   ]
  },
  {
   "cell_type": "code",
   "execution_count": 22,
   "id": "ab26fd59-45e1-4984-8482-62da5adb6d27",
   "metadata": {},
   "outputs": [],
   "source": [
    "m = np.linspace(9,1,11)\n"
   ]
  },
  {
   "cell_type": "code",
   "execution_count": 23,
   "id": "ed2fcf9b-332f-4a0f-a364-bcd24d5e8019",
   "metadata": {},
   "outputs": [
    {
     "data": {
      "text/plain": [
       "array([9. , 8.2, 7.4, 6.6, 5.8, 5. , 4.2, 3.4, 2.6, 1.8, 1. ])"
      ]
     },
     "execution_count": 23,
     "metadata": {},
     "output_type": "execute_result"
    }
   ],
   "source": [
    "m"
   ]
  },
  {
   "cell_type": "code",
   "execution_count": 24,
   "id": "2a2d39d7-cacb-417d-8952-37ed023f4499",
   "metadata": {},
   "outputs": [],
   "source": [
    "m_int = np.array(m,dtype = int)\n"
   ]
  },
  {
   "cell_type": "code",
   "execution_count": 25,
   "id": "57c5fb63-357a-467e-8605-e5f84232b152",
   "metadata": {},
   "outputs": [
    {
     "data": {
      "text/plain": [
       "(array([9. , 8.2, 7.4, 6.6, 5.8, 5. , 4.2, 3.4, 2.6, 1.8, 1. ]),\n",
       " array([9, 8, 7, 6, 5, 5, 4, 3, 2, 1, 1]))"
      ]
     },
     "execution_count": 25,
     "metadata": {},
     "output_type": "execute_result"
    }
   ],
   "source": [
    "m,m_int"
   ]
  },
  {
   "cell_type": "code",
   "execution_count": 26,
   "id": "3f0eaa03-1899-41c8-bec7-40795d0f5041",
   "metadata": {},
   "outputs": [
    {
     "name": "stdout",
     "output_type": "stream",
     "text": [
      "[1.  1.5 2.  2.5 3. ]\n",
      "[0 0 0 0 0]\n",
      "[1. 1. 1. 1. 1.]\n",
      "[4.94065646e-324 0.00000000e+000 4.32000000e+002 2.88000000e+002\n",
      " 1.20277285e-153]\n"
     ]
    }
   ],
   "source": [
    "x = np.linspace(1,3,5)\n",
    "\n",
    "ceros = np.zeros_like(x,dtype=int)\n",
    "unos = np.ones_like(x)\n",
    "vacio = np.empty_like(x)\n",
    "\n",
    "print(x)\n",
    "print(ceros)\n",
    "print(unos)\n",
    "print(vacio)"
   ]
  },
  {
   "cell_type": "code",
   "execution_count": 27,
   "id": "d4966334-c542-4780-bb98-4f050595011d",
   "metadata": {},
   "outputs": [
    {
     "data": {
      "text/plain": [
       "array([0.84147098, 0.99749499, 0.90929743, 0.59847214, 0.14112001])"
      ]
     },
     "execution_count": 27,
     "metadata": {},
     "output_type": "execute_result"
    }
   ],
   "source": [
    "np.sin(x)"
   ]
  },
  {
   "cell_type": "code",
   "execution_count": 28,
   "id": "f47398d5-7c78-4681-a754-09be8d2e8f23",
   "metadata": {},
   "outputs": [
    {
     "data": {
      "text/plain": [
       "\u001b[1;31mSignature:\u001b[0m \u001b[0mnp\u001b[0m\u001b[1;33m.\u001b[0m\u001b[0mhstack\u001b[0m\u001b[1;33m(\u001b[0m\u001b[0mtup\u001b[0m\u001b[1;33m)\u001b[0m\u001b[1;33m\u001b[0m\u001b[1;33m\u001b[0m\u001b[0m\n",
       "\u001b[1;31mDocstring:\u001b[0m\n",
       "Stack arrays in sequence horizontally (column wise).\n",
       "\n",
       "This is equivalent to concatenation along the second axis, except for 1-D\n",
       "arrays where it concatenates along the first axis. Rebuilds arrays divided\n",
       "by `hsplit`.\n",
       "\n",
       "This function makes most sense for arrays with up to 3 dimensions. For\n",
       "instance, for pixel-data with a height (first axis), width (second axis),\n",
       "and r/g/b channels (third axis). The functions `concatenate`, `stack` and\n",
       "`block` provide more general stacking and concatenation operations.\n",
       "\n",
       "Parameters\n",
       "----------\n",
       "tup : sequence of ndarrays\n",
       "    The arrays must have the same shape along all but the second axis,\n",
       "    except 1-D arrays which can be any length.\n",
       "\n",
       "Returns\n",
       "-------\n",
       "stacked : ndarray\n",
       "    The array formed by stacking the given arrays.\n",
       "\n",
       "See Also\n",
       "--------\n",
       "concatenate : Join a sequence of arrays along an existing axis.\n",
       "stack : Join a sequence of arrays along a new axis.\n",
       "block : Assemble an nd-array from nested lists of blocks.\n",
       "vstack : Stack arrays in sequence vertically (row wise).\n",
       "dstack : Stack arrays in sequence depth wise (along third axis).\n",
       "column_stack : Stack 1-D arrays as columns into a 2-D array.\n",
       "hsplit : Split an array into multiple sub-arrays horizontally (column-wise).\n",
       "\n",
       "Examples\n",
       "--------\n",
       ">>> a = np.array((1,2,3))\n",
       ">>> b = np.array((2,3,4))\n",
       ">>> np.hstack((a,b))\n",
       "array([1, 2, 3, 2, 3, 4])\n",
       ">>> a = np.array([[1],[2],[3]])\n",
       ">>> b = np.array([[2],[3],[4]])\n",
       ">>> np.hstack((a,b))\n",
       "array([[1, 2],\n",
       "       [2, 3],\n",
       "       [3, 4]])\n",
       "\u001b[1;31mFile:\u001b[0m      c:\\users\\efunes\\anaconda3\\lib\\site-packages\\numpy\\core\\shape_base.py\n",
       "\u001b[1;31mType:\u001b[0m      function\n"
      ]
     },
     "metadata": {},
     "output_type": "display_data"
    }
   ],
   "source": [
    "?np.hstack"
   ]
  },
  {
   "cell_type": "code",
   "execution_count": 29,
   "id": "44e69444-da9a-44e5-b60d-e595c6101a8a",
   "metadata": {},
   "outputs": [
    {
     "data": {
      "text/plain": [
       "array([1, 2, 3, 2, 3, 4])"
      ]
     },
     "execution_count": 29,
     "metadata": {},
     "output_type": "execute_result"
    }
   ],
   "source": [
    "a = np.array((1,2,3))\n",
    "b = np.array((2,3,4))\n",
    "np.hstack((a,b))"
   ]
  },
  {
   "cell_type": "code",
   "execution_count": 30,
   "id": "eeaa7bb7-2c07-4a7e-b101-a937597ff88d",
   "metadata": {},
   "outputs": [
    {
     "data": {
      "text/plain": [
       "array([[1, 2],\n",
       "       [2, 3],\n",
       "       [3, 4]])"
      ]
     },
     "execution_count": 30,
     "metadata": {},
     "output_type": "execute_result"
    }
   ],
   "source": [
    "a = np.array([[1],[2],[3]])\n",
    "b = np.array([[2],[3],[4]])\n",
    "np.hstack((a,b))"
   ]
  },
  {
   "cell_type": "markdown",
   "id": "4474ee4f-9d7b-417a-b069-e41788b2078f",
   "metadata": {},
   "source": [
    "### Ejercicio"
   ]
  },
  {
   "cell_type": "markdown",
   "id": "899041f7-2b8d-42b1-95a0-cbb9ba35700c",
   "metadata": {},
   "source": [
    "##### En data science y programación científica es común necesitar vectores con valores dentro de cierto intervalo, pero con sub-intervalos internos con diference espaciamiento ,por ejemplo:\n",
    "\n",
    "[0. , 0.1 , 0.2 , 0.3 , 0.4 , 0.5 , 0.51, 0.52, 0.53, 0.54, 0.55, 0.56, 0.57, 0.58, 0.59, 0.6 , 0.7 , 0.8 , 0.9 , 1. ]\n",
    "\n",
    "El primer sub-intervalo incrementa de 0.1 en 0.1 , el segundo de 0.01 en 0.01 , y el tercero de 0.1 en 0.1 nuevamente.\n",
    "\n",
    "Usando unicamente NumPy crea un vector de este tipo con el nombre xs .\n",
    "\n",
    "**nota:** no es permitido usar ciclos, debe realizarse con operaciones \"vectorizadas\" de numpy"
   ]
  },
  {
   "cell_type": "markdown",
   "id": "c22b91df-b459-443d-b625-b9f3e6d621d5",
   "metadata": {},
   "source": [
    "#### Solución de Ejercicio"
   ]
  },
  {
   "cell_type": "code",
   "execution_count": 31,
   "id": "bc871493-c178-41b0-9193-af5995d85dd3",
   "metadata": {},
   "outputs": [
    {
     "data": {
      "text/plain": [
       "array([0.  , 0.1 , 0.2 , 0.3 , 0.4 , 0.5 , 0.51, 0.52, 0.53, 0.54, 0.55,\n",
       "       0.56, 0.57, 0.58, 0.59, 0.6 , 0.7 , 0.8 , 0.9 , 1.  ])"
      ]
     },
     "execution_count": 31,
     "metadata": {},
     "output_type": "execute_result"
    }
   ],
   "source": [
    "x = np.linspace (0,0.5,6)\n",
    "y = np.linspace (0.51,0.6,10)\n",
    "z = np.linspace (0.7,1,4)\n",
    "xs=np.hstack((x,y,z))\n",
    "xs"
   ]
  },
  {
   "cell_type": "code",
   "execution_count": 32,
   "id": "c630bc3d-e7ca-4fe4-adab-f1adb7931dfa",
   "metadata": {},
   "outputs": [
    {
     "name": "stdout",
     "output_type": "stream",
     "text": [
      "[ 5 -4]\n"
     ]
    }
   ],
   "source": [
    "v = np.array([3,-5])\n",
    "w = np.array([2,1])\n",
    "\n",
    "c = v + w\n",
    "\n",
    "print(c)"
   ]
  },
  {
   "cell_type": "code",
   "execution_count": 33,
   "id": "e6277954-dbaa-4328-9569-ccc05c907769",
   "metadata": {},
   "outputs": [
    {
     "data": {
      "text/plain": [
       "array([  6, -10])"
      ]
     },
     "execution_count": 33,
     "metadata": {},
     "output_type": "execute_result"
    }
   ],
   "source": [
    "2*v"
   ]
  },
  {
   "cell_type": "code",
   "execution_count": 34,
   "id": "de7c1264-8fee-4100-a0ca-66f2ce317354",
   "metadata": {},
   "outputs": [
    {
     "data": {
      "text/plain": [
       "array([  6, -10])"
      ]
     },
     "execution_count": 34,
     "metadata": {},
     "output_type": "execute_result"
    }
   ],
   "source": [
    "np.array([2,2])*v"
   ]
  },
  {
   "cell_type": "code",
   "execution_count": 35,
   "id": "55112e74-b51b-438a-8995-6f75f6d45fc5",
   "metadata": {},
   "outputs": [
    {
     "data": {
      "text/plain": [
       "array([  6, -10])"
      ]
     },
     "execution_count": 35,
     "metadata": {},
     "output_type": "execute_result"
    }
   ],
   "source": [
    "dos = np.array([2,2])\n",
    "dos*v"
   ]
  },
  {
   "cell_type": "code",
   "execution_count": 36,
   "id": "08eaf925-f7c9-4680-b2f1-a0ad6407dfff",
   "metadata": {},
   "outputs": [
    {
     "name": "stdout",
     "output_type": "stream",
     "text": [
      "[ 3 -5]\n",
      "[2 1]\n"
     ]
    }
   ],
   "source": [
    "print(v)\n",
    "print(w)"
   ]
  },
  {
   "cell_type": "code",
   "execution_count": 37,
   "id": "e35e25b1-c6a8-4130-bd75-cb2487b670b3",
   "metadata": {},
   "outputs": [
    {
     "name": "stdout",
     "output_type": "stream",
     "text": [
      "[ 1 -6]\n",
      "[ 6 -5]\n",
      "[ 1.5 -5. ]\n",
      "[1 0]\n"
     ]
    }
   ],
   "source": [
    "resta = v - w #\n",
    "multiplicacion = v*w\n",
    "division = v/w\n",
    "div_mod = v%w\n",
    "\n",
    "print(resta)\n",
    "print(multiplicacion)\n",
    "print(division)\n",
    "print(div_mod)"
   ]
  },
  {
   "cell_type": "code",
   "execution_count": 38,
   "id": "1dcca91f-ebac-4b47-9563-4d76b61bddbd",
   "metadata": {},
   "outputs": [],
   "source": [
    "a = np.array((1,2,3))\n",
    "b = np.array((2,3,4))"
   ]
  },
  {
   "cell_type": "code",
   "execution_count": 39,
   "id": "1cb4b2f8-dd96-47dc-a4f3-85f70cb28796",
   "metadata": {},
   "outputs": [
    {
     "data": {
      "text/plain": [
       "array([3, 5, 7])"
      ]
     },
     "execution_count": 39,
     "metadata": {},
     "output_type": "execute_result"
    }
   ],
   "source": [
    "a = a + b\n",
    "a"
   ]
  },
  {
   "cell_type": "code",
   "execution_count": 40,
   "id": "a1c8ce14-e65f-44dc-94af-60351a83b784",
   "metadata": {},
   "outputs": [
    {
     "data": {
      "text/plain": [
       "array([ 5,  8, 11])"
      ]
     },
     "execution_count": 40,
     "metadata": {},
     "output_type": "execute_result"
    }
   ],
   "source": [
    "a+=b\n",
    "a"
   ]
  },
  {
   "cell_type": "code",
   "execution_count": 41,
   "id": "bc90ef85-9920-40e2-b61c-b3401ce4090e",
   "metadata": {},
   "outputs": [
    {
     "name": "stdout",
     "output_type": "stream",
     "text": [
      "[ 5  8 11]\n"
     ]
    }
   ],
   "source": [
    "print(a)"
   ]
  },
  {
   "cell_type": "code",
   "execution_count": 42,
   "id": "dfc69a5b-8281-4865-8b64-f75324697338",
   "metadata": {},
   "outputs": [
    {
     "data": {
      "text/plain": [
       "array([ 7, 10, 13])"
      ]
     },
     "execution_count": 42,
     "metadata": {},
     "output_type": "execute_result"
    }
   ],
   "source": [
    "a + 2"
   ]
  },
  {
   "cell_type": "code",
   "execution_count": 43,
   "id": "92c73a9d-1eb7-4122-b2e8-9058125c1ef8",
   "metadata": {},
   "outputs": [
    {
     "data": {
      "text/plain": [
       "array([0, 3, 6])"
      ]
     },
     "execution_count": 43,
     "metadata": {},
     "output_type": "execute_result"
    }
   ],
   "source": [
    "a -5"
   ]
  },
  {
   "cell_type": "code",
   "execution_count": 44,
   "id": "831fcfe7-7872-4a1b-9a2e-1023e6efdea0",
   "metadata": {},
   "outputs": [
    {
     "data": {
      "text/plain": [
       "array([15, 24, 33])"
      ]
     },
     "execution_count": 44,
     "metadata": {},
     "output_type": "execute_result"
    }
   ],
   "source": [
    "a * 3"
   ]
  },
  {
   "cell_type": "code",
   "execution_count": 45,
   "id": "c91488d6-02ad-4b3e-afea-c71105973f2d",
   "metadata": {},
   "outputs": [
    {
     "data": {
      "text/plain": [
       "array([ 5,  8, 11])"
      ]
     },
     "execution_count": 45,
     "metadata": {},
     "output_type": "execute_result"
    }
   ],
   "source": [
    "a"
   ]
  },
  {
   "cell_type": "code",
   "execution_count": 46,
   "id": "1552fe33-6929-4af2-a5d5-cb761c093984",
   "metadata": {},
   "outputs": [
    {
     "data": {
      "text/plain": [
       "array([1.66666667, 2.66666667, 3.66666667])"
      ]
     },
     "execution_count": 46,
     "metadata": {},
     "output_type": "execute_result"
    }
   ],
   "source": [
    "a / 3"
   ]
  },
  {
   "cell_type": "code",
   "execution_count": 47,
   "id": "3f07241c-5f59-4057-a7e1-db1264ea9b97",
   "metadata": {},
   "outputs": [],
   "source": [
    "sample_points = 10000\n",
    "inicio_intervalo = 0\n",
    "ruido = 0.5*np.random.randn(sample_points) #el ruido comunmente se debe a aleatoriedad o captura no exacta de info.\n",
    "x = np.linspace(inicio_intervalo,5*np.pi,sample_points) \n",
    "y = np.sin(x) + ruido\n",
    "\n",
    "#ys es \"y suavizado\", inicialmente es una copia de y\n",
    "ys =  y.copy()\n",
    "\n",
    "for n in range(1,len(y)-1): #5\n",
    "    ys[n] = (y[n-1] + y[n] + y[n+1])/3"
   ]
  },
  {
   "cell_type": "code",
   "execution_count": 48,
   "id": "16fe46a2-5366-449a-b4e7-2bc8a46993c2",
   "metadata": {},
   "outputs": [
    {
     "name": "stdout",
     "output_type": "stream",
     "text": [
      "[-0.20778815  0.00484963 -0.83195595 ...  0.08734526  1.31597543\n",
      "  0.19149631]\n",
      "[-0.20778815 -0.34496482 -0.61881978 ...  0.32997064  0.53160567\n",
      "  0.19149631]\n"
     ]
    }
   ],
   "source": [
    "print(y)\n",
    "print(ys)"
   ]
  },
  {
   "cell_type": "code",
   "execution_count": 49,
   "id": "b271ecf0-7581-4ac6-97d0-7d4a8d3ddd28",
   "metadata": {},
   "outputs": [
    {
     "data": {
      "image/png": "[encoded data removed]",
      "text/plain": [
       "<Figure size 432x288 with 1 Axes>"
      ]
     },
     "metadata": {
      "needs_background": "light"
     },
     "output_type": "display_data"
    }
   ],
   "source": [
    "plt.plot(x,y)\n",
    "plt.plot(x,ys)\n",
    "plt.xlim(inicio_intervalo,5*np.pi + 0.5)\n",
    "plt.show()"
   ]
  },
  {
   "cell_type": "code",
   "execution_count": 50,
   "id": "1ddcc3ca-90b7-4ef9-9e05-f191526771f4",
   "metadata": {},
   "outputs": [],
   "source": [
    "ejemplo_random = np.random.randn(100)"
   ]
  },
  {
   "cell_type": "code",
   "execution_count": 51,
   "id": "ad61f845-90b0-45d7-a151-24ce3b24910d",
   "metadata": {},
   "outputs": [
    {
     "data": {
      "text/plain": [
       "array([ 6.34029714e-01,  7.04186151e-01, -5.97974237e-03,  9.90590051e-02,\n",
       "       -1.36947739e-01,  4.98814549e-01, -9.13391869e-01, -8.47830712e-01,\n",
       "       -6.48286299e-01, -4.95046888e-01,  5.24090088e-01, -9.03250663e-01,\n",
       "        4.98049348e-02, -8.95752453e-01, -1.16811089e-01,  1.91953829e-01,\n",
       "       -2.08357992e+00, -4.32064307e-01,  2.46422598e-01,  1.53114269e+00,\n",
       "       -8.09217929e-01, -1.56786260e+00,  3.42924541e-01,  2.62213851e-01,\n",
       "        4.36257243e-01, -4.01943731e-01, -4.91579645e-02,  1.45477201e+00,\n",
       "        1.05192707e+00, -9.01665115e-01,  5.81036480e-02, -8.74534614e-01,\n",
       "       -8.56425612e-01,  5.35397508e-02, -4.48105709e-01, -2.25492096e+00,\n",
       "        1.43482190e+00,  1.83116825e+00, -1.21701467e+00,  7.66896551e-01,\n",
       "       -8.82113475e-02, -1.23884512e-01,  1.01936453e+00, -5.67866974e-01,\n",
       "       -1.83425970e-03, -4.94161277e-01, -2.57628471e-01,  5.10490986e-01,\n",
       "       -2.57841481e-01,  1.81842106e+00,  3.52323621e-01,  2.78612432e-02,\n",
       "        3.26354139e-01,  2.37644070e-01, -2.01703730e+00, -1.06026451e+00,\n",
       "        1.40379707e+00, -3.46641770e-02, -8.02355314e-01,  1.88797756e+00,\n",
       "       -1.91099283e+00, -1.11034662e+00, -2.09627794e-01,  1.94258829e+00,\n",
       "        8.83523251e-01, -2.16261786e-01, -5.54498944e-01, -4.07090205e-01,\n",
       "       -6.64434929e-01,  2.23292906e-01,  5.21626203e-01, -1.59186753e+00,\n",
       "       -3.12952374e-01, -1.14906082e+00,  2.10320455e+00, -8.59313895e-01,\n",
       "       -1.92913777e-02,  5.51967539e-01, -6.75316293e-01,  2.48331059e-01,\n",
       "        4.82278847e-01, -1.23652793e+00, -1.46348084e+00,  8.94946260e-01,\n",
       "        3.72574084e-01, -1.59161216e+00,  9.07074266e-01,  3.08712277e-01,\n",
       "       -2.18746432e+00,  6.89135693e-01,  1.76519698e+00, -1.35682270e-01,\n",
       "        1.91583135e-01,  5.12376301e-01, -7.48376754e-01,  7.46981236e-01,\n",
       "       -1.19989567e-02,  6.66452984e-01, -9.27707679e-01, -1.88052811e+00])"
      ]
     },
     "execution_count": 51,
     "metadata": {},
     "output_type": "execute_result"
    }
   ],
   "source": [
    "ejemplo_random"
   ]
  },
  {
   "cell_type": "markdown",
   "id": "6cc00799-a619-48ed-9911-f5ec618a95bf",
   "metadata": {},
   "source": [
    "### Ejercicio "
   ]
  },
  {
   "cell_type": "markdown",
   "id": "a4c87051-0204-46e5-add0-bfbfe0be3d4b",
   "metadata": {},
   "source": [
    "##### En este caso usamos un ciclo para ejemplificar pero ya hemos mencionado que debemos evitarlos siempre que sea posible y usar operaciones \"vectorizadas\" ya que es mucho mas rápido al utilizar código pre-compilado de C, en este ejercicio debemos remplazar el calculo de ys para hacerlo de manera \"vectorizada\" y eliminar el ciclo for.\n",
    "\n",
    "**Tip:** usar slicing"
   ]
  },
  {
   "cell_type": "markdown",
   "id": "142793c9-3019-452a-8ea1-b1fe060bb5ae",
   "metadata": {},
   "source": [
    "#### Solución de Ejercicio"
   ]
  },
  {
   "cell_type": "code",
   "execution_count": 52,
   "id": "c0d02927-e629-4449-8dc9-00d851845703",
   "metadata": {},
   "outputs": [],
   "source": [
    "sample_points = 10000\n",
    "inicio_intervalo = 0\n",
    "ruido = 0.5*np.random.randn(sample_points) #el ruido comunmente se debe a aleatoriedad o captura no exacta de info.\n",
    "x = np.linspace(inicio_intervalo,5*np.pi,sample_points) \n",
    "y = np.sin(x) + ruido"
   ]
  },
  {
   "cell_type": "code",
   "execution_count": 53,
   "id": "c84657a8-2fbc-4230-bb2b-a2deaf39f66f",
   "metadata": {},
   "outputs": [
    {
     "data": {
      "text/plain": [
       "array([-0.27705086, -0.45995309, -0.82509304, ...,  0.43996085,\n",
       "        0.70880756,  0.25532842])"
      ]
     },
     "execution_count": 53,
     "metadata": {},
     "output_type": "execute_result"
    }
   ],
   "source": [
    "ys += ys[0:len(y)]/3\n",
    "ys"
   ]
  },
  {
   "cell_type": "code",
   "execution_count": 54,
   "id": "75c8a774-3a1a-4d8a-a1e4-9b3237beb340",
   "metadata": {},
   "outputs": [
    {
     "name": "stdout",
     "output_type": "stream",
     "text": [
      "[ 0.00349594  0.94739562  0.1756557  ... -0.06927177  0.42953565\n",
      " -0.829028  ]\n",
      "[-0.27705086 -0.45995309 -0.82509304 ...  0.43996085  0.70880756\n",
      "  0.25532842]\n"
     ]
    }
   ],
   "source": [
    "print(y)\n",
    "print(ys)"
   ]
  },
  {
   "cell_type": "code",
   "execution_count": 55,
   "id": "3fe9896a-8fd2-409e-b8fc-53b62dea450b",
   "metadata": {},
   "outputs": [
    {
     "data": {
      "image/png": "[encoded data removed]",
      "text/plain": [
       "<Figure size 432x288 with 1 Axes>"
      ]
     },
     "metadata": {
      "needs_background": "light"
     },
     "output_type": "display_data"
    }
   ],
   "source": [
    "plt.plot(x,y)\n",
    "plt.plot(x,ys)\n",
    "plt.xlim(inicio_intervalo,5*np.pi + 0.5)\n",
    "plt.show()"
   ]
  },
  {
   "cell_type": "code",
   "execution_count": 56,
   "id": "4de3939f-bdc6-4a98-9ade-c4e6d0056dc0",
   "metadata": {},
   "outputs": [
    {
     "name": "stdout",
     "output_type": "stream",
     "text": [
      "[-1. -1.  0.  1.  1.  1.]\n"
     ]
    }
   ],
   "source": [
    "x = np.array([-5.3,-1,0,1.5,10,100])\n",
    "\n",
    "print(np.sign(x))"
   ]
  },
  {
   "cell_type": "code",
   "execution_count": 57,
   "id": "94500a37-95a0-4b03-b62e-0cef8ad5147f",
   "metadata": {},
   "outputs": [
    {
     "name": "stdout",
     "output_type": "stream",
     "text": [
      "[  5.3   1.    0.    1.5  10.  100. ]\n"
     ]
    }
   ],
   "source": [
    "print(np.abs(x))"
   ]
  },
  {
   "cell_type": "code",
   "execution_count": 58,
   "id": "ea29865c-3368-4de3-b537-11f8fbde912d",
   "metadata": {},
   "outputs": [
    {
     "name": "stdout",
     "output_type": "stream",
     "text": [
      "[ 0.55437434  0.54030231  1.          0.0707372  -0.83907153  0.86231887]\n"
     ]
    }
   ],
   "source": [
    "print(np.cos(x))"
   ]
  },
  {
   "cell_type": "code",
   "execution_count": 59,
   "id": "1adb3754-2258-46f1-b5d0-850d6ca17a44",
   "metadata": {},
   "outputs": [
    {
     "name": "stdout",
     "output_type": "stream",
     "text": [
      "[ 0.83226744 -0.84147098  0.          0.99749499 -0.54402111 -0.50636564]\n"
     ]
    }
   ],
   "source": [
    "print(np.sin(x))"
   ]
  },
  {
   "cell_type": "code",
   "execution_count": 60,
   "id": "981cdf9e-cd9f-438a-a809-af06510cb960",
   "metadata": {},
   "outputs": [
    {
     "name": "stdout",
     "output_type": "stream",
     "text": [
      "[ 1.5012734  -1.55740772  0.         14.10141995  0.64836083 -0.58721392]\n"
     ]
    }
   ],
   "source": [
    "print(np.tan(x))"
   ]
  },
  {
   "cell_type": "code",
   "execution_count": 61,
   "id": "07290c09-a5d7-41a4-a74b-1e62b48fdb35",
   "metadata": {},
   "outputs": [
    {
     "name": "stdout",
     "output_type": "stream",
     "text": [
      "[4.99159391e-03 3.67879441e-01 1.00000000e+00 4.48168907e+00\n",
      " 2.20264658e+04 2.68811714e+43]\n"
     ]
    }
   ],
   "source": [
    "print(np.exp(x))"
   ]
  },
  {
   "cell_type": "code",
   "execution_count": 62,
   "id": "68a5a8b8-ddb3-4b65-b5f4-b889dcde1037",
   "metadata": {},
   "outputs": [
    {
     "name": "stdout",
     "output_type": "stream",
     "text": [
      "6\n"
     ]
    }
   ],
   "source": [
    "print(len(x))"
   ]
  },
  {
   "cell_type": "code",
   "execution_count": 63,
   "id": "ed7bf941-1fea-4fd4-9e73-43187ae2a769",
   "metadata": {},
   "outputs": [],
   "source": [
    "x = np.array([-5.3,-1,0,1.5,10,100])"
   ]
  },
  {
   "cell_type": "code",
   "execution_count": 169,
   "id": "c5e8a3b8-77f3-49cc-8940-3a9035149651",
   "metadata": {},
   "outputs": [
    {
     "name": "stdout",
     "output_type": "stream",
     "text": [
      "[0.         0.69314718 1.09861229 1.38629436]\n"
     ]
    }
   ],
   "source": [
    "print(np.log(x))"
   ]
  },
  {
   "cell_type": "code",
   "execution_count": 170,
   "id": "e7757909-f411-420d-a30e-52ac8588898c",
   "metadata": {},
   "outputs": [
    {
     "name": "stdout",
     "output_type": "stream",
     "text": [
      "[0.        1.        1.5849625 2.       ]\n"
     ]
    }
   ],
   "source": [
    "print(np.log2(x))"
   ]
  },
  {
   "cell_type": "code",
   "execution_count": 171,
   "id": "34a5f3fc-fb38-482a-a75b-528d1b902f3d",
   "metadata": {},
   "outputs": [
    {
     "name": "stdout",
     "output_type": "stream",
     "text": [
      "[1.         1.41421356 1.73205081 2.        ]\n"
     ]
    }
   ],
   "source": [
    "print(np.sqrt(x))"
   ]
  },
  {
   "cell_type": "code",
   "execution_count": 67,
   "id": "a25eaed1-6a02-47ab-8748-53116f65d640",
   "metadata": {},
   "outputs": [
    {
     "name": "stdout",
     "output_type": "stream",
     "text": [
      "[2.809e+01 1.000e+00 0.000e+00 2.250e+00 1.000e+02 1.000e+04]\n"
     ]
    }
   ],
   "source": [
    "print(np.power(x,2))"
   ]
  },
  {
   "cell_type": "code",
   "execution_count": 172,
   "id": "8e88e4d7-b0c3-4446-bd06-6224e9cb3360",
   "metadata": {},
   "outputs": [
    {
     "name": "stdout",
     "output_type": "stream",
     "text": [
      "[-0.]\n",
      "[1. 1.]\n",
      "[-0. inf]\n",
      "[0.00014428]\n",
      "[2.        0.4150375]\n",
      "[2.32192809 2.32192809 2.32192809 2.32192809 2.32192809]\n",
      "[1.32192809 2.32192809 3.32192809 3.32192809 2.32192809]\n"
     ]
    },
    {
     "name": "stderr",
     "output_type": "stream",
     "text": [
      "C:\\Users\\EFunes\\AppData\\Local\\Temp/ipykernel_19688/3541626468.py:2: RuntimeWarning: divide by zero encountered in log2\n",
      "  return np.log2(px)*-1 # teoría de la información\n"
     ]
    }
   ],
   "source": [
    "def calcular_informacion(px):\n",
    "    return np.log2(px)*-1 # teoría de la información\n",
    "\n",
    "distribucion_prob1 = [1.0]\n",
    "distribucion_prob2 = [0.5,0.5] # la entropia es maxima cuando todos tienen la misma prob\n",
    "distribucion_prob3 = [1.0,0.0]\n",
    "distribucion_prob4 = [0.9999]\n",
    "distribucion_prob5 = [0.25,0.75]\n",
    "distribucion_prob6 = [0.2]*5 # ojo estas son listas por lo tanto * la replica, no son arrays de numpy\n",
    "distribucion_prob7 = [0.4,0.2,0.1,0.1,0.2]\n",
    "\n",
    "print(calcular_informacion(distribucion_prob1))\n",
    "print(calcular_informacion(distribucion_prob2))\n",
    "print(calcular_informacion(distribucion_prob3))\n",
    "print(calcular_informacion(distribucion_prob4))\n",
    "print(calcular_informacion(distribucion_prob5))\n",
    "print(calcular_informacion(distribucion_prob6))\n",
    "print(calcular_informacion(distribucion_prob7))"
   ]
  },
  {
   "cell_type": "markdown",
   "id": "8a421504-285a-4fd0-be38-00e593eb46fc",
   "metadata": {},
   "source": [
    "### Ejercicio"
   ]
  },
  {
   "cell_type": "markdown",
   "id": "559fae04-bec0-4c98-a2ce-6191382a8208",
   "metadata": {
    "tags": []
   },
   "source": [
    "##### Ejercicio Para calcular la información de una distribución de probabilidad necesitamos calcular el producto entre la información de cada posible x y su probabilidad , cada uno de estos elementos nos indica cuanta incerteza aporta cada x a la entropía de la distribución. Crea una función que calcule esto, debe recibir un vector representando a la dist. de probabilidad y devoler otro vector con el termino de entropía para cada x. Por ejemplo:\n",
    "\n",
    "##### calcular_entropia([0.25,0.75])\n",
    "\n",
    "##### Debe resultar en :\n",
    "\n",
    "##### [0.5 , 0.31127812]\n",
    "\n",
    "**Nota:** la entropía es la suma sobre estos valores, en este caso no calculamos la entropía,unicamente los termimos de su sumatoria. La entropía es:\n",
    "\n",
    "$$ S=−∑inP(xi)log2P(xi) $$"
   ]
  },
  {
   "cell_type": "markdown",
   "id": "2401061d-7ce9-44a9-a298-a034d9999420",
   "metadata": {},
   "source": [
    "#### Solución de Ejercicio"
   ]
  },
  {
   "cell_type": "code",
   "execution_count": 69,
   "id": "9170f447-89bd-45d7-9fc5-cb0648e86efa",
   "metadata": {},
   "outputs": [
    {
     "name": "stdout",
     "output_type": "stream",
     "text": [
      "[-1.84166534e+03 -2.62152364e+04 -7.03105529e+04 -8.77443751e-01\n",
      " -3.32192809e+01 -6.64385619e+02]\n"
     ]
    }
   ],
   "source": [
    "def productox_probabilidad(px):\n",
    "    return np.log2(px)*-1*(px) # entropía\n",
    "\n",
    "vect = np.array([234,2342,5642,1.5,10,100])\n",
    "print(productox_probabilidad(vect))"
   ]
  },
  {
   "cell_type": "markdown",
   "id": "2b06ef34-1909-4261-92d9-bc25d1d2f479",
   "metadata": {},
   "source": [
    "$$ g(x)=(x^{3} + 2x^{2} + e^{0.0001x} -\\sqrt{2x})/50 $$"
   ]
  },
  {
   "cell_type": "code",
   "execution_count": 70,
   "id": "0f0cd898-60ea-423e-a0c9-b7ee3e3b17eb",
   "metadata": {},
   "outputs": [
    {
     "name": "stdout",
     "output_type": "stream",
     "text": [
      "Ganancias [20399.73735829  2599.82010025   337.37862871 20399.73735829]\n"
     ]
    }
   ],
   "source": [
    "def g(x): #<- vector\n",
    "    \n",
    "    ganancia = (np.power(x,3) + 2.0*(np.power(x,2.0))+np.exp(0.0001*x) - np.sqrt(2.0*x))/50\n",
    "    \n",
    "    return ganancia # <- vector del mismo tamaño que x\n",
    "    \n",
    "gastos = np.array([100,50,25,100]) #vector\n",
    "ganancia = g(gastos)\n",
    "\n",
    "print(\"Ganancias\",ganancia)"
   ]
  },
  {
   "cell_type": "markdown",
   "id": "a3765bb4-1735-4b1e-8f3f-cf1d2e75f25f",
   "metadata": {},
   "source": [
    "### Ejercicio"
   ]
  },
  {
   "cell_type": "markdown",
   "id": "6206a104-45ae-423f-ab22-6780abaedb7e",
   "metadata": {},
   "source": [
    "##### Se ha determinado también que hay costos asociados a la comunicación y relación con los clientes(llamadas,mensajes electrónicos,etc) y que estos también tienen alta correlación con el monto que estos gastan en su primer més siguiendo el modelo:\n",
    "$$ c(x)=(x2+x+log(0.0001x)−0.54x−−−−−√)/100 $$ \n",
    "\n",
    "##### Cree una función para calcular este modelo sobre valores de de gasto de nuevos clientes , y luego cree una función ganancia_neta(x,g,c) donde:\n",
    "\n",
    "##### x = vector conteniendo los valores de gasto del primer mes para nuevos clientes.\n",
    "##### g = función que estima la ganancia en función de x\n",
    "##### c = función que estima el costo en función de x\n",
    "##### La función realiza el calculo simple g(x) - c(x) , ya que es posible que los modelos cambien en el tiempo es común recibir como parámetro el ##### modelo o modelos hijos de un modelo mas grande , en este caso eso se logra recibiendo como parámetro las funciones de ganancia y costo."
   ]
  },
  {
   "cell_type": "markdown",
   "id": "d5f84a12-98da-4840-9368-f6c2736ec050",
   "metadata": {},
   "source": [
    "#### Solución de Ejercicio"
   ]
  },
  {
   "cell_type": "code",
   "execution_count": 71,
   "id": "916232eb-24c5-47ed-9248-2bad85ada125",
   "metadata": {},
   "outputs": [
    {
     "name": "stdout",
     "output_type": "stream",
     "text": [
      "CostosTotales [100.90651531  25.42502818   6.43723705 100.90651531]\n"
     ]
    }
   ],
   "source": [
    "def c(x): #<- vector\n",
    "    \n",
    "    costos = (np.power(x,2) + x + np.log10(0.0001*x) -  np.sqrt(0.54*x))/100\n",
    "    \n",
    "    return costos # <- vector del mismo tamaño que x\n",
    "\n",
    "gastos = np.array([100,50,25,100]) #vector\n",
    "costos = c(gastos)\n",
    "\n",
    "print(\"CostosTotales\",costos)\n"
   ]
  },
  {
   "cell_type": "code",
   "execution_count": 72,
   "id": "46a0b892-4ec4-4b2b-bd3b-02f3b090c541",
   "metadata": {},
   "outputs": [
    {
     "name": "stdout",
     "output_type": "stream",
     "text": [
      "Ganancia Neta [20298.83084298  2574.39507207   330.94139165 20298.83084298]\n"
     ]
    }
   ],
   "source": [
    "def g_neta(x):\n",
    "    ganancia_neta = g(x) - c(x)\n",
    "    \n",
    "    return ganancia_neta\n",
    "\n",
    "x = np.array([100,50,25,100]) #vector\n",
    "ganancia_neta = g(x) - c(x)\n",
    "\n",
    "print(\"Ganancia Neta\", ganancia_neta)"
   ]
  },
  {
   "cell_type": "code",
   "execution_count": 73,
   "id": "5d98bee1-ebb6-4520-95b6-952cc31fdf82",
   "metadata": {},
   "outputs": [],
   "source": [
    "def ganancia2(x):\n",
    "  return np.power(x,2)\n",
    "\n",
    "def costos(x):\n",
    "  return np.sqrt(x)"
   ]
  },
  {
   "cell_type": "code",
   "execution_count": 74,
   "id": "755f2cd7-05a7-437b-aed4-5b206490e3e5",
   "metadata": {},
   "outputs": [
    {
     "data": {
      "text/plain": [
       "array([20389.73735829,  2592.74903244,   332.37862871, 20389.73735829])"
      ]
     },
     "execution_count": 74,
     "metadata": {},
     "output_type": "execute_result"
    }
   ],
   "source": [
    "def ganancia_neta(x,g,c):\n",
    "  return g(x) - c(x)\n",
    "\n",
    "ganancia_neta(x,g,costos)"
   ]
  },
  {
   "cell_type": "code",
   "execution_count": 75,
   "id": "1ca1c44f-ae34-46c7-a523-a4e1fd9b5baa",
   "metadata": {},
   "outputs": [
    {
     "data": {
      "text/plain": [
       "array([100,  50,  25, 100])"
      ]
     },
     "execution_count": 75,
     "metadata": {},
     "output_type": "execute_result"
    }
   ],
   "source": [
    "x"
   ]
  },
  {
   "cell_type": "code",
   "execution_count": 76,
   "id": "18ab7495-b1fd-482c-8dc4-89c62ace35d9",
   "metadata": {},
   "outputs": [],
   "source": [
    "x = np.array([1,2,3,4,5,6,7,8,9,2,2])\n",
    "x_nan = np.array([1,2,3,4,np.nan,6,8,2,2])"
   ]
  },
  {
   "cell_type": "code",
   "execution_count": 77,
   "id": "587e3f73-95cd-45bf-932f-5a1e7e639af4",
   "metadata": {},
   "outputs": [
    {
     "name": "stdout",
     "output_type": "stream",
     "text": [
      "9\n",
      "9\n",
      "nan\n",
      "9\n",
      "8.0\n"
     ]
    }
   ],
   "source": [
    "print(np.max(x))\n",
    "print(x.max())\n",
    "print(np.max(x_nan))\n",
    "\n",
    "print(np.nanmax(x))\n",
    "print(np.nanmax(x_nan))"
   ]
  },
  {
   "cell_type": "code",
   "execution_count": 78,
   "id": "fe2b5528-8126-4abe-963d-deb336bb06e1",
   "metadata": {},
   "outputs": [
    {
     "name": "stdout",
     "output_type": "stream",
     "text": [
      "8\n",
      "8\n"
     ]
    }
   ],
   "source": [
    "print(np.argmax(x))\n",
    "print(x.argmax())"
   ]
  },
  {
   "cell_type": "code",
   "execution_count": 79,
   "id": "2621cfb9-f073-458f-ad9d-d7b56a795345",
   "metadata": {},
   "outputs": [
    {
     "name": "stdout",
     "output_type": "stream",
     "text": [
      "1\n",
      "1\n",
      "nan\n",
      "1\n",
      "1.0\n"
     ]
    }
   ],
   "source": [
    "print(np.min(x))\n",
    "print(x.min())\n",
    "print(np.min(x_nan))\n",
    "\n",
    "print(np.nanmin(x))\n",
    "print(np.nanmin(x_nan))"
   ]
  },
  {
   "cell_type": "code",
   "execution_count": 80,
   "id": "33155241-6d93-402b-a67f-7362030d9612",
   "metadata": {},
   "outputs": [
    {
     "name": "stdout",
     "output_type": "stream",
     "text": [
      "0\n",
      "1\n"
     ]
    }
   ],
   "source": [
    "print(np.argmin(x))\n",
    "print(x.min())"
   ]
  },
  {
   "cell_type": "code",
   "execution_count": 81,
   "id": "b4c2e34c-a971-43a8-ac2a-802d2646f9b1",
   "metadata": {},
   "outputs": [
    {
     "data": {
      "text/plain": [
       "1"
      ]
     },
     "execution_count": 81,
     "metadata": {},
     "output_type": "execute_result"
    }
   ],
   "source": [
    "np.argmin(np.array([456,2,100,23]))"
   ]
  },
  {
   "cell_type": "code",
   "execution_count": 82,
   "id": "262432e9-3623-455e-bbac-13ed8fb7a813",
   "metadata": {},
   "outputs": [
    {
     "data": {
      "text/plain": [
       "array([ 1,  3,  6, 10, 15], dtype=int32)"
      ]
     },
     "execution_count": 82,
     "metadata": {},
     "output_type": "execute_result"
    }
   ],
   "source": [
    "a = np.array([1,2,3,4,5])\n",
    "\n",
    "np.cumsum(a)"
   ]
  },
  {
   "cell_type": "code",
   "execution_count": 83,
   "id": "a32dc35c-6f2b-4666-a955-a050cc876f10",
   "metadata": {},
   "outputs": [
    {
     "data": {
      "text/plain": [
       "array([  1,   2,   6,  24, 120], dtype=int32)"
      ]
     },
     "execution_count": 83,
     "metadata": {},
     "output_type": "execute_result"
    }
   ],
   "source": [
    "np.cumprod(a)"
   ]
  },
  {
   "cell_type": "markdown",
   "id": "40c8c016-ec1c-405b-911b-6c1b8602788c",
   "metadata": {},
   "source": [
    "### Ejercicio"
   ]
  },
  {
   "cell_type": "markdown",
   "id": "6818d1aa-ce86-4796-be15-53c11f766f2c",
   "metadata": {},
   "source": [
    "##### Ejemplo aplicado En un datawarehouse se tiene un modelo \"lifetime value\" en el que se almacena de manera acumulativa cuantas ganancias se han percibido a lo largo de la vida de los usuarios, un ETL en Python debe calcularlo en función de un vector que contiene de manera ordenada en el tiempo los ingresos percibidos mensualmente para cierto usuario. Podemos usar la funcion np.cumsum para esto, en este ejercicio necesitamos determinar el \"lifetime value\" de cierto usuario en su 6to mes:"
   ]
  },
  {
   "cell_type": "markdown",
   "id": "a3226c3b-9f32-4308-8ce7-20c16d365777",
   "metadata": {},
   "source": [
    "#### Solución de Ejercicio"
   ]
  },
  {
   "cell_type": "code",
   "execution_count": 84,
   "id": "f1df6e49-2d96-4e00-ad28-4b67bc82f75e",
   "metadata": {},
   "outputs": [
    {
     "name": "stdout",
     "output_type": "stream",
     "text": [
      "Lifetime value: [ 25 175 300 375 475 520 542 572]\n",
      "El valor del usuario a su sexto mes es : 520\n"
     ]
    }
   ],
   "source": [
    "def lifetime_value(ganancias_mensuales):\n",
    "    ## tu codigo aqui(~ 1 linea de codigo):\n",
    "    return np.cumsum(ganancias_usuario) \n",
    "    pass\n",
    "\n",
    "# Prueba:\n",
    "ganancias_usuario = np.array([25,150,125,75,100,45,22,30])\n",
    "lifetime_value_usuario = lifetime_value(ganancias_usuario)\n",
    "\n",
    "print(\"Lifetime value:\",lifetime_value_usuario)\n",
    "\n",
    "print(\"El valor del usuario a su sexto mes es :\",lifetime_value_usuario[5])"
   ]
  },
  {
   "cell_type": "code",
   "execution_count": 85,
   "id": "e298a0c4-bae5-45e2-ab18-15156528cccc",
   "metadata": {},
   "outputs": [
    {
     "name": "stdout",
     "output_type": "stream",
     "text": [
      "[        25       3750     468750   35156250 -779342296 -710664952\n",
      " 1545240240 -887433056]\n"
     ]
    }
   ],
   "source": [
    "print(np.cumprod(ganancias_usuario))"
   ]
  },
  {
   "cell_type": "code",
   "execution_count": 86,
   "id": "fb4ec245-a3a8-4119-811c-5ee5d51eb715",
   "metadata": {},
   "outputs": [],
   "source": [
    "x = np.array([1,2,3,4,5,6,7,8,9,2,2])\n",
    "x_nan = np.array([1,2,3,4,np.nan,6,8,2,2])"
   ]
  },
  {
   "cell_type": "code",
   "execution_count": 87,
   "id": "2211951d-f4ec-4f06-8b38-6a66ee38994e",
   "metadata": {},
   "outputs": [
    {
     "name": "stdout",
     "output_type": "stream",
     "text": [
      "4.454545454545454\n",
      "nan\n"
     ]
    }
   ],
   "source": [
    "print(np.mean(x))\n",
    "print(x_nan.mean())"
   ]
  },
  {
   "cell_type": "code",
   "execution_count": 88,
   "id": "89bccb8f-597f-4cc9-8697-8271c4110921",
   "metadata": {},
   "outputs": [
    {
     "data": {
      "text/plain": [
       "3.5"
      ]
     },
     "execution_count": 88,
     "metadata": {},
     "output_type": "execute_result"
    }
   ],
   "source": [
    "np.nanmean(x_nan)"
   ]
  },
  {
   "cell_type": "code",
   "execution_count": 89,
   "id": "85ab2d4a-5916-470e-a7e6-45df906e5b7c",
   "metadata": {},
   "outputs": [
    {
     "name": "stdout",
     "output_type": "stream",
     "text": [
      "4.0\n",
      "nan\n"
     ]
    }
   ],
   "source": [
    "print(np.median(x))\n",
    "print(np.median(x_nan))"
   ]
  },
  {
   "cell_type": "code",
   "execution_count": 90,
   "id": "c53e69d3-8a05-483f-9afc-fc3e741b9025",
   "metadata": {},
   "outputs": [
    {
     "name": "stdout",
     "output_type": "stream",
     "text": [
      "2.6064129430602643\n",
      "2.6064129430602643\n"
     ]
    }
   ],
   "source": [
    "print(x.std())\n",
    "print(np.std(x))"
   ]
  },
  {
   "cell_type": "code",
   "execution_count": 91,
   "id": "64d6a01e-b953-4ba5-a6f5-5363c34747cd",
   "metadata": {},
   "outputs": [
    {
     "name": "stdout",
     "output_type": "stream",
     "text": [
      "6.793388429752068\n",
      "6.793388429752068\n"
     ]
    }
   ],
   "source": [
    "print(x.var())\n",
    "print(np.var(x))"
   ]
  },
  {
   "cell_type": "markdown",
   "id": "e9a3bb26-d0ea-4cde-83eb-66bee9e519f6",
   "metadata": {},
   "source": [
    "### Ejercicio "
   ]
  },
  {
   "cell_type": "markdown",
   "id": "37ce10c2-1f04-407d-a26f-5756d7f4426e",
   "metadata": {},
   "source": [
    "##### Usando argmax crear una función mode(x) para calcular la moda de un vector x , esta función debe devolver una tupla de 2 elementos de la forma:\n",
    "\n",
    "##### (valor,conteo)\n",
    "\n",
    "**Tip** investigar y auxiliarse de otras funciones de numpy y np.argmax, no olvidar trabajar todo vectorizado, sin ciclos."
   ]
  },
  {
   "cell_type": "markdown",
   "id": "cd47ba90-8612-4eda-9247-a5941732c8e1",
   "metadata": {},
   "source": [
    "#### Solución de Ejercicio"
   ]
  },
  {
   "cell_type": "code",
   "execution_count": 92,
   "id": "7ffe0eab-3e74-4900-a8f7-ad1a4eae123a",
   "metadata": {},
   "outputs": [
    {
     "data": {
      "text/plain": [
       "array([1, 2, 3, 4, 5, 6, 7, 8, 9, 2, 2])"
      ]
     },
     "execution_count": 92,
     "metadata": {},
     "output_type": "execute_result"
    }
   ],
   "source": [
    "x = np.array([1,2,3,4,5,6,7,8,9,2,2])\n",
    "x"
   ]
  },
  {
   "cell_type": "code",
   "execution_count": 395,
   "id": "c5cc395e-74a7-43f2-a90c-15ce7eb510cd",
   "metadata": {},
   "outputs": [
    {
     "name": "stdout",
     "output_type": "stream",
     "text": [
      "(-2.0, 1)\n"
     ]
    }
   ],
   "source": [
    "def mode(x):\n",
    "  \n",
    "    vals,counts = np.unique(x, return_counts=True)\n",
    "    index = np.argmax(vals)\n",
    "\n",
    "    ##return mode ##    print(vals[index])\n",
    "\n",
    "## tu codigo aqui (~ 3 lineas de codigo):\n",
    "    mode_ = np.argmax(counts)\n",
    "    return (vals[mode_], counts[mode_])\n",
    "    \n",
    "print(mode(x))  \n"
   ]
  },
  {
   "cell_type": "markdown",
   "id": "9634c6e7-6819-46fb-91a0-f7aedca727d0",
   "metadata": {},
   "source": [
    "### Ejercicio"
   ]
  },
  {
   "cell_type": "markdown",
   "id": "ee53deee-5053-419d-97fb-2b1c366ced95",
   "metadata": {},
   "source": [
    "##### Crear una función para calcular la entropía de una distribución de probabilidad representada como un vector.\n",
    "$$ S=−∑inP(xi)log2P(xi) $$ \n",
    "\n",
    "**Nota:** a diferencia del ejercicio anterior donde solo calculamos los términos de la entropía, en este caso si calculamos el valor completo de la entropía, que como mencionamos es una medida de incerteza en una distribución de probabilidad.\n",
    "\n",
    "##### recordatorio: no usar ciclos solo operaciones vectorizadas."
   ]
  },
  {
   "cell_type": "markdown",
   "id": "1628aa30-ee90-4ab8-a146-e5e181d14d71",
   "metadata": {},
   "source": [
    "#### Solución de Ejercicio"
   ]
  },
  {
   "cell_type": "code",
   "execution_count": 95,
   "id": "bcbb194c-bd74-4a9a-80ff-5bf2a7afd629",
   "metadata": {},
   "outputs": [
    {
     "data": {
      "text/plain": [
       "array([ -1841.66534438, -28056.90173868, -98367.45468188, -98368.33212563,\n",
       "       -98401.55140658, -99065.93702556])"
      ]
     },
     "execution_count": 95,
     "metadata": {},
     "output_type": "execute_result"
    }
   ],
   "source": [
    "def productox_probabilidad(px):\n",
    "    return np.log2(px)*-1*(px) # entropía\n",
    "\n",
    "vect = np.array([234,2342,5642,1.5,10,100])\n",
    "np.cumsum(productox_probabilidad(vect))"
   ]
  },
  {
   "cell_type": "markdown",
   "id": "c96f08bd-b0ce-404d-b9f9-5d27848a3182",
   "metadata": {},
   "source": [
    "#### Solución de Ejercicio"
   ]
  },
  {
   "cell_type": "code",
   "execution_count": 401,
   "id": "52e724a8-55c6-4b6c-953f-a98c27610e5b",
   "metadata": {},
   "outputs": [],
   "source": [
    "def cross_entropy(entropy):\n",
    "    log2x = np.log2(entropy)\n",
    "    return -1.0 * np.sum(entropy * log2x)\n"
   ]
  },
  {
   "cell_type": "code",
   "execution_count": 402,
   "id": "12d5cb28-e770-4891-8745-aa2e37af81fe",
   "metadata": {},
   "outputs": [
    {
     "data": {
      "text/plain": [
       "0.8112781244591328"
      ]
     },
     "execution_count": 402,
     "metadata": {},
     "output_type": "execute_result"
    }
   ],
   "source": [
    "entropy([0.25, 0.75])"
   ]
  },
  {
   "cell_type": "markdown",
   "id": "2620e008-e89b-4989-85cf-0a4a6dee73ba",
   "metadata": {},
   "source": [
    "#### Ejercicio"
   ]
  },
  {
   "cell_type": "markdown",
   "id": "d62a0f7e-6bd4-4639-87de-fbff12f70777",
   "metadata": {},
   "source": [
    "##### Crear una función que reciba como parámetro un vector x y calcule su magnitud o norma(euclidiana o L2) ,luego usarla para evaluar 2 vectores que representan los errores generados por 2 modelos de machine learning y concluir cual de los 2 modelos es mejor."
   ]
  },
  {
   "cell_type": "markdown",
   "id": "59d0d692-641f-4c3e-8c53-86d3a8bd6ffc",
   "metadata": {},
   "source": [
    "#### Solución de Ejercicio"
   ]
  },
  {
   "cell_type": "code",
   "execution_count": 143,
   "id": "c9ac0c1d-6281-44a0-891b-87cae4e61cbd",
   "metadata": {},
   "outputs": [
    {
     "name": "stdout",
     "output_type": "stream",
     "text": [
      "3.1622776601683795\n",
      "2.449489742783178\n",
      "El mejor modelo es el 2\n"
     ]
    }
   ],
   "source": [
    "def magnitud(x):\n",
    "     ## tu codigo aqui (~ 1 linea de codigo)\n",
    "    return np.sqrt(np.sum(np.power(x,2))) # raiz cuadrada\n",
    "\n",
    "errores_modelo1 = np.array([1,2,1,2]) #\n",
    "errores_modelo2 = np.array([0,1,1,2]) #\n",
    "\n",
    "print(magnitud(errores_modelo1))\n",
    "print(magnitud(errores_modelo2))\n",
    "\n",
    "if magnitud(errores_modelo1) < magnitud(errores_modelo2):\n",
    "    print(\"El mejor modelo es el 1\")\n",
    "else:\n",
    "    print(\"El mejor modelo es el 2\")# elegir el mejor modelo con una condicional(if)"
   ]
  },
  {
   "cell_type": "markdown",
   "id": "d52b8e85-4829-498b-9eab-e9850b7f26a6",
   "metadata": {},
   "source": [
    "#### Ejercicio"
   ]
  },
  {
   "cell_type": "markdown",
   "id": "4b4b389b-7ac5-4a8f-ba25-bcff18343071",
   "metadata": {},
   "source": [
    "##### Usando la función del ejercicio anterior, crea otra función normalizar(x) que reciba de parámetro un vector x aplique normalización sobre este, el resultado debe ser un nuevo vector del tamaño de x cuya magnitud es igual a 1.0"
   ]
  },
  {
   "cell_type": "markdown",
   "id": "5e3ee61f-77d4-4d0a-a65f-34291252a41b",
   "metadata": {},
   "source": [
    "#### Solución de Ejercicio"
   ]
  },
  {
   "cell_type": "code",
   "execution_count": 406,
   "id": "26840762-b10a-4f0a-b1c1-9bffe1cbb45a",
   "metadata": {},
   "outputs": [
    {
     "name": "stdout",
     "output_type": "stream",
     "text": [
      "1.0\n",
      "1.0\n"
     ]
    }
   ],
   "source": [
    "def normalizar(x):\n",
    "    ## tu codigo aqui (~ 3 linea de codigo)\n",
    "    \n",
    "    magnitud_ = magnitud(x)\n",
    "    return x / magnitud_\n",
    "\n",
    "print(magnitud(normalizar(errores_modelo1)))\n",
    "print(magnitud(normalizar(errores_modelo2)))"
   ]
  },
  {
   "cell_type": "code",
   "execution_count": 149,
   "id": "f8d23f96-bbcb-41cf-a580-2a6e56cd6da8",
   "metadata": {},
   "outputs": [
    {
     "name": "stdout",
     "output_type": "stream",
     "text": [
      "1.0\n"
     ]
    },
    {
     "data": {
      "image/png": "[encoded data removed]",
      "text/plain": [
       "<Figure size 432x288 with 1 Axes>"
      ]
     },
     "metadata": {
      "needs_background": "light"
     },
     "output_type": "display_data"
    },
    {
     "name": "stdout",
     "output_type": "stream",
     "text": [
      "20000\n"
     ]
    }
   ],
   "source": [
    "import matplotlib.pyplot as plt\n",
    "\n",
    "a = np.array([100,100]) #usuario1\n",
    "b = np.array([100,100]) #usuario2\n",
    "\n",
    "\n",
    "print(np.dot(a,b)/(np.linalg.norm(a)*np.linalg.norm(b)))\n",
    "plt.arrow(0,0,a[0],a[1],head_width=1,head_length=1,color=\"r\")\n",
    "plt.arrow(0,0,b[0],b[1],head_width=1,head_length=1,color=\"b\")\n",
    "plt.xlim(-20,20)\n",
    "plt.ylim(-20,20)\n",
    "plt.show()\n",
    "\n",
    "print(np.dot(a,b))"
   ]
  },
  {
   "cell_type": "code",
   "execution_count": 150,
   "id": "1860d026-e64d-46d0-95cb-28111a237188",
   "metadata": {
    "tags": []
   },
   "outputs": [
    {
     "name": "stdout",
     "output_type": "stream",
     "text": [
      "1.4\n",
      "1.4\n",
      "1.4\n"
     ]
    }
   ],
   "source": [
    "f = np.array([0.1,0.2,0.3])\n",
    "g = np.array([1,2,3])\n",
    "\n",
    "print(f.dot(g))\n",
    "print(np.dot(f,g))\n",
    "\n",
    "#print(g.inner(f)) # operacion no existente en NumPy\n",
    "print(np.inner(g,f))"
   ]
  },
  {
   "cell_type": "markdown",
   "id": "70a67b3d-85d7-4f77-bbd1-bad2b8c35245",
   "metadata": {},
   "source": [
    "#### Ejercicio"
   ]
  },
  {
   "cell_type": "markdown",
   "id": "8c40c21a-816d-4076-871b-64f7ffa4088f",
   "metadata": {
    "tags": []
   },
   "source": [
    "##### Ejercicio aplicado en DS Se tiene una red neuronal sencilla(y simplificada) como la de la siguiente imagen:"
   ]
  },
  {
   "attachments": {
    "34744688-cb03-4d7f-af8c-5465a4d4df67.JPG": {
     "image/jpeg": "[encoded data removed]"
    }
   },
   "cell_type": "markdown",
   "id": "1e0e3829-f117-4627-a742-5d4d3701e40b",
   "metadata": {},
   "source": [
    "![RN.JPG](attachment:34744688-cb03-4d7f-af8c-5465a4d4df67.JPG)"
   ]
  },
  {
   "cell_type": "code",
   "execution_count": 163,
   "id": "4bd02c03-ca25-426f-a36a-13444b3deb7d",
   "metadata": {},
   "outputs": [
    {
     "name": "stdout",
     "output_type": "stream",
     "text": [
      "3.1799999999999997\n"
     ]
    }
   ],
   "source": [
    "def neural_network(x):\n",
    "    return np.dot(HL1,HL2)\n",
    "\n",
    "HL1 = np.array([0.25,0.37])\n",
    "HL2 = np.array([-8,14])\n",
    "\n",
    "print(np.dot(HL1,HL2))\n",
    "    "
   ]
  },
  {
   "cell_type": "code",
   "execution_count": 166,
   "id": "a0a01891-f5f1-4df6-902f-02fe5297385a",
   "metadata": {},
   "outputs": [
    {
     "data": {
      "text/plain": [
       "3.1799999999999997"
      ]
     },
     "execution_count": 166,
     "metadata": {},
     "output_type": "execute_result"
    }
   ],
   "source": [
    "def capa_salida(x):\n",
    "    return np.dot(HL1,HL2)\n",
    "\n",
    "output_layer = np.array([4,9])\n",
    "neural_network\n",
    "\n",
    "print(np.dot(HL1,HL2))"
   ]
  },
  {
   "cell_type": "markdown",
   "id": "5750a1af-52e1-4190-a9bc-d318ddba5791",
   "metadata": {},
   "source": [
    "#### Ejercicio Aplicado a DS"
   ]
  },
  {
   "cell_type": "code",
   "execution_count": 416,
   "id": "5d21200c-77dd-479f-841a-c9ff030d8ffb",
   "metadata": {},
   "outputs": [
    {
     "data": {
      "image/png": "[encoded data removed]",
      "text/plain": [
       "<Figure size 432x288 with 1 Axes>"
      ]
     },
     "metadata": {
      "needs_background": "light"
     },
     "output_type": "display_data"
    }
   ],
   "source": [
    "ruido = 0.1*np.random.randn(15) #el ruido comunmente se debe a aleatoriedad o captura no exacta de info.\n",
    "x = np.linspace(0,2*np.pi,15) \n",
    "y = np.sin(x) + ruido\n",
    "\n",
    "filtro = np.array([1/3,1/3,1/3]) #para lograr las medias moviles a traves de correlacion cruzada\n",
    "\n",
    "## tu codigo aqui (~ 3 linea de codigo)\n",
    "ys = y.copy()\n",
    "for i in range(1, len(ys) - 1):\n",
    "    ys[i] = np.dot(y[i - 1:i + 2], filtro)\n",
    "\n",
    "plt.plot(x, y)\n",
    "plt.plot(x, ys)\n",
    "plt.xlim(0,5 * np.pi + 0.5)\n",
    "plt.show()"
   ]
  },
  {
   "cell_type": "markdown",
   "id": "720b497c-bf8e-4ea9-94ca-d6a3b16d10f0",
   "metadata": {},
   "source": [
    "### Ejercicio"
   ]
  },
  {
   "cell_type": "markdown",
   "id": "9c85d693-2cdc-47da-a848-0d22eecb1c80",
   "metadata": {},
   "source": [
    "##### Ejercicio dado el vector x, usar operadores lógicos sobre vectores y acceso a elementos usando vectores booleanos , escribir un programa que calcule eun nuevo vector z conteniendo el valor absoluto de el vector x.\n",
    "\n",
    "**nota** No se puede usar np.abs() ni ciclos\n",
    "\n",
    "**tip** usar un vector booleano para saber que elementos son negativos y deben ser multiplicados por -1"
   ]
  },
  {
   "cell_type": "markdown",
   "id": "1fb9aebd-7372-4ac6-aa8b-1a2f5b514a14",
   "metadata": {},
   "source": [
    "#### Solución de Ejercicio"
   ]
  },
  {
   "cell_type": "code",
   "execution_count": 199,
   "id": "75729f2b-47be-47e6-a9d2-a0a0a6ff47c2",
   "metadata": {},
   "outputs": [
    {
     "data": {
      "text/plain": [
       "array([-2. , -1.5, -1. , -0.5,  0. ,  0.5,  1. ,  1.5,  2. ])"
      ]
     },
     "execution_count": 199,
     "metadata": {},
     "output_type": "execute_result"
    }
   ],
   "source": [
    "x = np.linspace(-2,2,9)\n",
    "x"
   ]
  },
  {
   "cell_type": "code",
   "execution_count": 239,
   "id": "4e265f16-0be7-4d3b-b30e-3b7ea8dbf1fb",
   "metadata": {},
   "outputs": [
    {
     "data": {
      "text/plain": [
       "array([2. , 1.5, 1. , 0.5, 0. , 0.5, 1. , 1.5, 2. ])"
      ]
     },
     "execution_count": 239,
     "metadata": {},
     "output_type": "execute_result"
    }
   ],
   "source": [
    "x = np.linspace(-2,2,9)\n",
    "\n",
    "\n",
    "## tu codigo aqui (~ 4 linea de codigo)\n",
    "### ver cuales elementos son negativos <- vector booleanos\n",
    "### multiplicar esos elementos por -1\n",
    "### usando el vector del rpimer paso remplazar los que eran negativos por su valor calculado en paso 2\n",
    "\n",
    "z = x < 0\n",
    "x[z]\n",
    "x[0:4]*-1\n",
    "y = np.hstack((x[0:4]*-1,x[4:]))\n",
    "y"
   ]
  },
  {
   "cell_type": "markdown",
   "id": "7d91187d-aec5-4913-af0c-94fe51ae97df",
   "metadata": {},
   "source": [
    "#### Ejercicio Implementar la función:"
   ]
  },
  {
   "attachments": {
    "52c4f13e-f6e4-4c62-bd95-64c06ae310f2.PNG": {
     "image/png": "[encoded data removed]"
    }
   },
   "cell_type": "markdown",
   "id": "c2c2726b-500b-4e12-b547-cf3ee056075f",
   "metadata": {},
   "source": [
    "![Funcion.PNG](attachment:52c4f13e-f6e4-4c62-bd95-64c06ae310f2.PNG)"
   ]
  },
  {
   "cell_type": "markdown",
   "id": "c3704a6d-cd30-4fcd-ac7c-335235712a65",
   "metadata": {},
   "source": [
    "__nota__ debe ser implementada sin ciclos o ifs"
   ]
  },
  {
   "cell_type": "markdown",
   "id": "ad62e3e1-5321-4812-b106-0f440ea5f2e2",
   "metadata": {},
   "source": [
    "#### Solución de Ejercicio"
   ]
  },
  {
   "cell_type": "code",
   "execution_count": 417,
   "id": "0eaab795-b840-4efe-a795-70a1af7fc203",
   "metadata": {},
   "outputs": [
    {
     "name": "stdout",
     "output_type": "stream",
     "text": [
      "[ 0.1 -2.   0.5  5. ]\n",
      "[ 0.1 -0.   0.5  0. ]\n"
     ]
    }
   ],
   "source": [
    "def h(x):\n",
    "    x[x<0] *= 0\n",
    "    x[x>1] *= 0\n",
    "    return x\n",
    "\n",
    "x = np.array([0.1,-2,0.5,5])\n",
    "print(x)\n",
    "print(h(x))"
   ]
  },
  {
   "cell_type": "markdown",
   "id": "92997c77-6b00-4c42-a350-7be4fec8f52d",
   "metadata": {},
   "source": [
    "#### Ejercicio"
   ]
  },
  {
   "cell_type": "markdown",
   "id": "980e637f-e9e8-4b12-ae9f-dbaca6c005b3",
   "metadata": {},
   "source": [
    "##### Usando select implementar una función k(x) con la siguiente definición:"
   ]
  },
  {
   "attachments": {
    "5f6f553a-3a9e-47b7-9d1e-ae0e82abf686.PNG": {
     "image/png": "[encoded data removed]"
    }
   },
   "cell_type": "markdown",
   "id": "1da85b4c-ea35-46bf-abeb-2b39a25bccd6",
   "metadata": {},
   "source": [
    "![Funcion_para_Ejercicio.PNG](attachment:5f6f553a-3a9e-47b7-9d1e-ae0e82abf686.PNG)"
   ]
  },
  {
   "cell_type": "markdown",
   "id": "1121756f-04bf-46f8-a3d6-abaf8584484a",
   "metadata": {},
   "source": [
    "#### Solución de Ejercicio"
   ]
  },
  {
   "cell_type": "code",
   "execution_count": 341,
   "id": "77a5bc64-df74-4c28-bed3-890014074a3c",
   "metadata": {},
   "outputs": [
    {
     "name": "stdout",
     "output_type": "stream",
     "text": [
      "[-2.  -1.5 -1.  -0.5  0.   0.5  1.   1.5  2. ]\n",
      "[2.    1.5   1.    0.5   0.    0.125 1.    2.25  4.   ]\n"
     ]
    }
   ],
   "source": [
    "x = np.linspace(-2,2,9)\n",
    "condiciones = [x<0 , ((0<=x) & (x<1)), ((1<=x) & (x<2)), x>=2]\n",
    "resultados = [-x , x**3, x**2, 4]\n",
    "k = np.select(condiciones,resultados)\n",
    "\n",
    "print(x)\n",
    "print(k)"
   ]
  },
  {
   "cell_type": "markdown",
   "id": "9cff249f-da70-4142-a342-743979a2b2cd",
   "metadata": {},
   "source": [
    "### Ejercicio Investigar piecewise"
   ]
  },
  {
   "cell_type": "markdown",
   "id": "dff5fdb5-8620-4404-b3f2-ee0968016cb5",
   "metadata": {},
   "source": [
    "#### Investigación Función Piecewise"
   ]
  },
  {
   "cell_type": "markdown",
   "id": "caf4edd7-3c77-4a93-83ef-7d3197627720",
   "metadata": {},
   "source": [
    "###### Es una función matemática que se comporta de manera diferente de acuerdo al insumo o input que recibe. Es una función que tiene diferentes subfuciones. Por cada intervalo, se define una subfunción."
   ]
  },
  {
   "attachments": {
    "62b7faf3-13a8-4ecc-a845-8abc09d3c161.PNG": {
     "image/png": "[encoded data removed]"
    }
   },
   "cell_type": "markdown",
   "id": "c6f0aef4-61a1-43e0-ba2a-4c9e6d8a695c",
   "metadata": {},
   "source": [
    "![Piecewise.PNG](attachment:62b7faf3-13a8-4ecc-a845-8abc09d3c161.PNG)"
   ]
  },
  {
   "cell_type": "markdown",
   "id": "1e37b282-22e0-4e8a-85fb-ef5e90729de1",
   "metadata": {},
   "source": [
    "#### Solución de Ejercicios"
   ]
  },
  {
   "cell_type": "code",
   "execution_count": 343,
   "id": "83b80bfd-d052-4bbf-b435-90f831ddb980",
   "metadata": {},
   "outputs": [
    {
     "data": {
      "text/plain": [
       "array([-1., -1., -1., -1.,  1.,  1.,  1.,  1.,  1.])"
      ]
     },
     "execution_count": 343,
     "metadata": {},
     "output_type": "execute_result"
    }
   ],
   "source": [
    "x = np.linspace(-2,2,9)\n",
    "np.piecewise(x, [x < 0, x >= 0], [-1, 1])"
   ]
  },
  {
   "cell_type": "code",
   "execution_count": 388,
   "id": "7b2ac340-ceac-4e76-ae52-0a31656fb85b",
   "metadata": {
    "tags": []
   },
   "outputs": [
    {
     "data": {
      "text/plain": [
       "array([-2.   , -1.5  , -1.   , -0.5  ,  0.   ,  0.125,  1.   ,  2.25 ,\n",
       "        4.   ])"
      ]
     },
     "execution_count": 388,
     "metadata": {},
     "output_type": "execute_result"
    }
   ],
   "source": [
    "x = np.linspace(-2,2,9)\n",
    "np.piecewise(x, [x < 0, ((x >= 0) & ( x < 1)), ((x >= 1) & (x < 2)), x >= 2], [lambda x : x , lambda x : x**3, lambda x : x**2, 4])"
   ]
  },
  {
   "cell_type": "code",
   "execution_count": 390,
   "id": "7281a10e-eaef-4ddd-8535-ea0db03cf16e",
   "metadata": {},
   "outputs": [
    {
     "data": {
      "text/plain": [
       "array([0.01831564, 0.04978707, 0.13533528, 0.36787944, 1.        ,\n",
       "       1.        , 1.        , 0.60653066, 0.36787944])"
      ]
     },
     "execution_count": 390,
     "metadata": {},
     "output_type": "execute_result"
    }
   ],
   "source": [
    "x = np.linspace(-2,2,9)\n",
    "np.piecewise(x, [x < 0, ((x >= 0) & (x < 1)), x >= 1], [lambda x : np.exp(2*x), 1, lambda x : np.exp(1-x)])"
   ]
  },
  {
   "cell_type": "markdown",
   "id": "afab83e7-762d-4588-9f08-ba44eb19ff5b",
   "metadata": {},
   "source": [
    "### Proyección Vectorial"
   ]
  },
  {
   "cell_type": "markdown",
   "id": "57f57232-a5f0-4d58-826d-22acaeeae443",
   "metadata": {},
   "source": [
    "##### Un vector es un objeto geométrico que tiene tanto magnitud(es decir, longitud) como dirección. Un vector generalmente está representado por un segmento de línea con una cierta dirección que conecta el punto inicial A y el punto terminal B."
   ]
  },
  {
   "cell_type": "markdown",
   "id": "15cd3bab-e2b9-4b17-adb6-619c7015e668",
   "metadata": {},
   "source": [
    "##### En primer lugar, vamos a ver gráficamente qué es la proyección de un vector sobre otro vector. Tenemos los siguientes vectores u y v, que forman un ángulo alfa:"
   ]
  },
  {
   "attachments": {
    "6b65760a-c7f4-4d3e-9305-69b12f79927a.PNG": {
     "image/png": "[encoded data removed]"
    }
   },
   "cell_type": "markdown",
   "id": "7701f0d5-2344-468f-92cc-b44ab20c2f6d",
   "metadata": {},
   "source": [
    "![1Vector.PNG](attachment:6b65760a-c7f4-4d3e-9305-69b12f79927a.PNG)"
   ]
  },
  {
   "cell_type": "markdown",
   "id": "e2e07aca-e307-4c73-8cdc-4a1c04273355",
   "metadata": {},
   "source": [
    "##### Vamos a representar gráficamente la proyección del vector u sobre el vector v. Para ello, desde el extremo de u, trazamos una recta perpendicular al vector v:"
   ]
  },
  {
   "attachments": {
    "003b3a15-cd8b-46b6-a195-b13a9602cd66.PNG": {
     "image/png": "[encoded data removed]"
    }
   },
   "cell_type": "markdown",
   "id": "a20d9f82-4bd9-4fea-ba13-670c3aa4b2b4",
   "metadata": {},
   "source": [
    "![2Vector.PNG](attachment:003b3a15-cd8b-46b6-a195-b13a9602cd66.PNG)"
   ]
  },
  {
   "cell_type": "markdown",
   "id": "a20269d7-e1e1-4331-a82c-bbb1c17ef814",
   "metadata": {},
   "source": [
    "##### Ahora, sobre el vector v, dibujamos un vector desde el origen de ambos vectores hasta el punto donde se cortan la recta perpendicular y el vector v. El vector resultante (de color verde) es el vector proyección de u en v:\n",
    "\n"
   ]
  },
  {
   "attachments": {
    "8b1be72c-36f8-4121-b65b-35c0d53f6020.PNG": {
     "image/png": "[encoded data removed]"
    }
   },
   "cell_type": "markdown",
   "id": "8d0eea0b-d330-4b51-9837-d2325b9cba59",
   "metadata": {},
   "source": [
    "![3Vector.PNG](attachment:8b1be72c-36f8-4121-b65b-35c0d53f6020.PNG)"
   ]
  },
  {
   "cell_type": "markdown",
   "id": "5d43b6a1-17de-42c9-a953-c599d2e4b8a1",
   "metadata": {},
   "source": [
    "##### Ejemplo"
   ]
  },
  {
   "cell_type": "code",
   "execution_count": 147,
   "id": "33909c5f-38cb-496b-8718-99c4a5d3c066",
   "metadata": {},
   "outputs": [
    {
     "data": {
      "text/plain": [
       "(array([1, 2, 3, 4]), array([2, 4, 6, 8]))"
      ]
     },
     "execution_count": 147,
     "metadata": {},
     "output_type": "execute_result"
    }
   ],
   "source": [
    "x = np.arange(1, 5)\n",
    "y = np.array([2, 4, 6, 8])\n",
    "x, y "
   ]
  },
  {
   "cell_type": "code",
   "execution_count": 148,
   "id": "3acf82f4-d99b-45b5-a522-dd7a726c27b1",
   "metadata": {},
   "outputs": [
    {
     "data": {
      "text/plain": [
       "60"
      ]
     },
     "execution_count": 148,
     "metadata": {},
     "output_type": "execute_result"
    }
   ],
   "source": [
    "# Calculando el producto escalar de los vectores x e y\n",
    "x @ y"
   ]
  },
  {
   "cell_type": "markdown",
   "id": "b89f4a23-94ff-4f23-8aee-817c683689cb",
   "metadata": {},
   "source": [
    "##### Explicación"
   ]
  },
  {
   "cell_type": "markdown",
   "id": "0daa29cc-9fe2-4003-aab6-05d39b901987",
   "metadata": {},
   "source": [
    "###### x * y = 1*2 + 2*4 + 3*6 + 4*8\n",
    "######           = 60"
   ]
  },
  {
   "cell_type": "markdown",
   "id": "e719d136-03e0-4821-b5d8-2724dc519c3f",
   "metadata": {},
   "source": [
    "##### Aplicación o caso de uso en DS u otras ciencias de tu interés: solo se necesita nombrar el caso de uso, no desarrollarlo o programarlo, tip: Hay un algoritmo de ML cuyo nombre puede ser útil."
   ]
  },
  {
   "cell_type": "markdown",
   "id": "f952858a-d0aa-44b8-aba5-fdd9317edc4d",
   "metadata": {},
   "source": [
    "###### \"Vector Support Machines\""
   ]
  },
  {
   "cell_type": "markdown",
   "id": "3f12b557-99fc-4dd9-b759-6853ae0341ab",
   "metadata": {},
   "source": [
    "### Producto Cruz"
   ]
  },
  {
   "cell_type": "markdown",
   "id": "095be8d7-2843-4013-9c4d-fa12f71f43e3",
   "metadata": {},
   "source": [
    "##### El producto cruzado de dos vectores produce un vector que es perpendicular al plano formado por los vectores de entrada y su magnitud es proporcional al área que abarca el paralelogramo formado por estos vectores de entrada."
   ]
  },
  {
   "cell_type": "markdown",
   "id": "d6cbbd35-dcbc-44b7-be5a-86439cf0c0d2",
   "metadata": {},
   "source": [
    "##### Ejemplo 1: Producto cruzado de matrices Numpy"
   ]
  },
  {
   "cell_type": "code",
   "execution_count": null,
   "id": "dc03d279-b5f9-46c9-945c-805748b7e8dc",
   "metadata": {},
   "outputs": [],
   "source": [
    "#inicializar arrays\n",
    "A = np.array([5, 4])\n",
    "B = np.array([7, 9])\n",
    " \n",
    "#calcular el producto cruzado\n",
    "salida = np.cross(A, B)\n",
    " \n",
    "print(salida)"
   ]
  },
  {
   "cell_type": "markdown",
   "id": "d6ee35b4-56ea-450f-85c7-a4b1b73e0754",
   "metadata": {},
   "source": [
    "##### Explicación"
   ]
  },
  {
   "cell_type": "markdown",
   "id": "dc1abf2b-97bf-4b58-a404-d61ff95942f6",
   "metadata": {},
   "source": [
    "###### cross(A,B) = 5*9 - 7*4\n",
    "######           = 17"
   ]
  },
  {
   "cell_type": "markdown",
   "id": "71ea8a0b-79a2-4e43-a7a0-7921d16f1209",
   "metadata": {},
   "source": [
    "##### Ejemplo 2: Producto cruzado de matrices Numpy en 3D"
   ]
  },
  {
   "cell_type": "code",
   "execution_count": null,
   "id": "79c42ced-4b93-490a-aa2d-031076f942fa",
   "metadata": {},
   "outputs": [],
   "source": [
    "A = np.array([2, 7, 4])\n",
    "B = np.array([3, 9, 8])\n",
    " \n",
    "#calcular el producto cruzado\n",
    "salida = np.cross(A, B)\n",
    " \n",
    "print(salida)"
   ]
  },
  {
   "cell_type": "markdown",
   "id": "7587eb59-f690-432d-ad00-db7ff0d5a993",
   "metadata": {},
   "source": [
    "##### Explicación"
   ]
  },
  {
   "cell_type": "markdown",
   "id": "5d319832-4602-4eaa-8616-2f5df6bcf12c",
   "metadata": {},
   "source": [
    "###### cross(A,B) = [(7*8-9*4), -(2*8-4*3), (2*9-7*3)]\n",
    "######           = [20, -4, -3]"
   ]
  },
  {
   "cell_type": "markdown",
   "id": "0fce1859-a765-4459-8dd3-d815a5528b9c",
   "metadata": {},
   "source": [
    "##### Aplicación o caso de uso en DS u otras ciencias de tu interés: solo se necesita nombrar el caso de uso, no desarrollarlo o programarlo"
   ]
  },
  {
   "cell_type": "markdown",
   "id": "a4d87ae3-3a28-41b3-95f1-64a59da6301f",
   "metadata": {},
   "source": [
    "###### \"Machine Learning, en clasificación, clustering, Natural Language Processing o Forecasting\""
   ]
  }
 ],
 "metadata": {
  "kernelspec": {
   "display_name": "Python 3 (ipykernel)",
   "language": "python",
   "name": "python3"
  },
  "language_info": {
   "codemirror_mode": {
    "name": "ipython",
    "version": 3
   },
   "file_extension": ".py",
   "mimetype": "text/x-python",
   "name": "python",
   "nbconvert_exporter": "python",
   "pygments_lexer": "ipython3",
   "version": "3.9.7"
  }
 },
 "nbformat": 4,
 "nbformat_minor": 5
}
